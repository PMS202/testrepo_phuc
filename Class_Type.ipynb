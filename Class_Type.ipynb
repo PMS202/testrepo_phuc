{
 "cells": [
  {
   "cell_type": "code",
   "execution_count": 173,
   "metadata": {},
   "outputs": [],
   "source": [
    "import pandas as pd\n",
    "import numpy as numpy"
   ]
  },
  {
   "cell_type": "code",
   "execution_count": 174,
   "metadata": {},
   "outputs": [],
   "source": [
    "ACC_machine=pd.read_excel(r\"C:\\Users\\MISA\\Downloads\\15. TỔNG MÁY & THIẾT BỊ TEV (VPS8).xlsx\",sheet_name=\"List máy mã ACC\")\n",
    "ACC_machine=ACC_machine.to_numpy()\n",
    "code_ACC=ACC_machine[1:,5]\n",
    "name_ACC=ACC_machine[1:,11]\n",
    "MCG_machine=pd.read_excel(r\"C:\\Users\\MISA\\Downloads\\15. TỔNG MÁY & THIẾT BỊ TEV (VPS8).xlsx\",sheet_name=\"List máy mã MCG\")\n",
    "MCG_machine=MCG_machine.to_numpy()\n",
    "code_MCG=MCG_machine[1:,4]\n",
    "name_MCG=MCG_machine[1:,10]"
   ]
  },
  {
   "cell_type": "code",
   "execution_count": 175,
   "metadata": {},
   "outputs": [
    {
     "name": "stderr",
     "output_type": "stream",
     "text": [
      "d:\\Anaconda\\envs\\my_env\\Lib\\site-packages\\openpyxl\\worksheet\\header_footer.py:48: UserWarning: Cannot parse header or footer so it will be ignored\n",
      "  warn(\"\"\"Cannot parse header or footer so it will be ignored\"\"\")\n"
     ]
    },
    {
     "data": {
      "text/plain": [
       "array(['Tủ sấy', 'Bể chất hàn', 'Mỏ hàn', 'Các loại jig kiểm điện',\n",
       "       'Máy Hioki (LCR)', 'Máy Hipot', 'Máy impulse (trừ MPC)',\n",
       "       'Máy impulse MPC', 'Máy ratio', 'Máy Rdc', 'Máy lạnh các loại',\n",
       "       'Máy nén khí', 'Bình áp xuất (nito/chứa khí/gaz…)',\n",
       "       'Máy phát điện các loại', 'Quạt hút các loại',\n",
       "       'Máy sấy khô khí nén', 'Bơm nước các loại',\n",
       "       'Transformer các loại (ngoại trừ trans trung thế)',\n",
       "       'Transformer trung thế', 'Thiết bị văn phòng (máy tính, máy in…)',\n",
       "       'Máy khoan các loại', 'Máy hàn (hàn điện, khí argon..)',\n",
       "       'Máy cắt phôi, cắt sắt', 'Máy gạt xỉ chất hàn',\n",
       "       'Bộ điều khiển bể chất hàn', 'Băng tải trả Jig',\n",
       "       'Gá nhúng chất hàn tự động', 'Dispenser', 'Máy KC-605', 'Auto Jig',\n",
       "       'Forming bằng tay', 'Kìm giật chân', 'Kìm định chân',\n",
       "       'Jig tiếp xúc', 'Jig nhúng cất hàn', 'Jig che Acid',\n",
       "       'Jig che bụi chất hàn', 'Bể Acid', 'Jig nhỏ keo', 'Mặt bàn cắt ',\n",
       "       'Gauge kiểm kích thước Sumitube', 'Cầu trượt', 'Gauge đo chân',\n",
       "       'Pinpend', 'Máy quấn Tape', 'Máy dập River',\n",
       "       'Máy cắt chân linh kiện', 'Máy nhúng Flux',\n",
       "       'Máy nhúng chất hàn Manual', 'Máy Định chân ', 'Máy quậy keo',\n",
       "       'Máy quấn dây', 'Máy Nhúng chất hàn', 'Máy nhỏ Chất hàn',\n",
       "       'Máy sấy chất hàn', 'Máy cắt chân', 'Máy hàn chốt', 'Máy nhỏ keo',\n",
       "       'Máy sấy keo', 'Máy kiểm điện', 'Máy ngoại quan', 'Máy cắt Flux',\n",
       "       'Máy quấn băng keo', 'Thang máy', 'Máy cắt dây (EDM)',\n",
       "       'Máy phay cơ (MM01)', 'Máy phay cơ (MM02)', 'Máy phay cơ (MM03)',\n",
       "       'Máy phay cơ (MM05)', 'Máy phay CNC (MM07)', 'Máy phay CNC (MM08)',\n",
       "       'Máy mài tự động (SDM001)', 'Máy tiện ( ML03)', 'Máy cắt phôi',\n",
       "       'Máy cưa hồng ký', 'Máy Nhỏ Keo', 'Mấy dập chân linh kiện',\n",
       "       'Máy kiểm (Auto Jig)', 'Máy sấy tube', 'Máy forming',\n",
       "       'Máy cắt dây', 'Eto', 'Máy cắt kiểm', 'Máy ép nhựa',\n",
       "       'Máy cắt chân/forming…M-chip', 'Bộ nguồn DC (Kiểm Idc)',\n",
       "       'Máy cắt Sumitube', 'Máy tuốt dây', 'Máy bấm đầu code',\n",
       "       'Máy tapping', 'Máy quấn dây bán tự động', 'Máy cắt dây dư SS',\n",
       "       'Máy quấn cắt tự động', 'Máy nhỏ keo marking SS11',\n",
       "       'Máy nhỏ keo marking SSR', 'Băng tải chờ khô keo',\n",
       "       'Máy kiểm điện xếp vỉ tự động', 'Máy connnection',\n",
       "       'Máy nhấn chân SS', 'Tủ sấy DKM300, DKM400, DKM600',\n",
       "       'Máy quấn dây sumi auto', 'Máy nhúng chất hàn tự động',\n",
       "       'Máy quấn dây', 'Máy nhấn chân', 'Máy ráp core đóng marking',\n",
       "       'Máy nhúng Varnish', 'Máy Kiểm điện xếp vỉ', 'Máy quấn roll core',\n",
       "       'Máy quấn dây', 'Máy Sấy', 'Máy quấn chân', 'Máy hàn TIG',\n",
       "       'Máy kiểm điện Compact', 'Máy kiểm Auto S6AB', 'Máy kiểm E0 8839',\n",
       "       'Máy kiểm E0 6194', 'Máy cắt chân+Marking ', 'Lò sấy Core',\n",
       "       'Máy quấn Roll', 'Máy cắt Roll', 'Máy thổi bụi Ring+Roll Core',\n",
       "       'Máy Forming chân', 'Máy quấn dây Track', 'Máy 1A',\n",
       "       'Máy ép chà lớp cách điện', 'Máy 1B', 'Máy rửa siêu âm',\n",
       "       'Máy nhúng leadfree', 'Hộp điều khiển', 'Máy Molding',\n",
       "       'Máy Forming – marking', 'Máy reflow & hóa chất',\n",
       "       'Máy Testing -Tapping', 'Máy quấn dây MPLC', 'Máy ép nắp MPLC',\n",
       "       'Máy hàn MPLC', 'Máy cắt frame MPLC', 'Máy trộn powder',\n",
       "       'Máy sàng powder', 'Máy tái chế IPA', 'Máy hút ẩm',\n",
       "       'Máy ép Ringcore', 'Máy LCR', 'Máy IR', 'Máy Impul',\n",
       "       'Máy đo độ ẩm', 'Cân điện tử', 'Máy X-RAY', 'Máy thử độ dính',\n",
       "       'Máy thử pin hold'], dtype=object)"
      ]
     },
     "execution_count": 175,
     "metadata": {},
     "output_type": "execute_result"
    }
   ],
   "source": [
    "phanloai=pd.read_excel(r\"C:\\Users\\MISA\\Downloads\\15. TỔNG MÁY & THIẾT BỊ TEV (VPS8).xlsx\",sheet_name=\"HD Phân loại mức độ nguy hiểm\")\n",
    "phanloai=phanloai.to_numpy()\n",
    "name_machine=phanloai[5:161,2]\n",
    "type_machine=phanloai[5:161,3]\n",
    "name_machine"
   ]
  },
  {
   "cell_type": "code",
   "execution_count": 176,
   "metadata": {},
   "outputs": [],
   "source": [
    "type_a=[]\n",
    "type_b=[]\n",
    "type_c=[]\n",
    "for i in range(len(type_machine)):\n",
    "    temp=name_machine[i].lower().split(\" \")\n",
    "    if type_machine[i]==\"A\":\n",
    "        for j in range(len(temp)):\n",
    "            if temp[j]!=\"Máy\" and temp[j]!=\"máy\":\n",
    "                type_a.append(temp[j])\n",
    "    elif type_machine[i]==\"B\":\n",
    "        for j in range(len(temp)):\n",
    "            if temp[j]!=\"Máy\" and temp[j]!=\"máy\":\n",
    "                type_b.append(temp[j])\n",
    "    else:\n",
    "        for j in range(len(temp)):\n",
    "            if temp[j]!=\"Máy\" and temp[j]!=\"máy\":\n",
    "                type_c.append(temp[j])"
   ]
  },
  {
   "cell_type": "code",
   "execution_count": 177,
   "metadata": {},
   "outputs": [],
   "source": [
    "def vote(point_a,point_b,point_c):\n",
    "    if point_a > point_b and point_a > point_c:\n",
    "        return \"A\"\n",
    "    elif point_b > point_a and point_b > point_c:\n",
    "        return \"B\"\n",
    "    elif point_c > point_a and point_c > point_b:\n",
    "        return \"C\"\n",
    "    else: \n",
    "        return \"Bo Tay\""
   ]
  },
  {
   "cell_type": "markdown",
   "metadata": {},
   "source": []
  },
  {
   "cell_type": "code",
   "execution_count": 178,
   "metadata": {},
   "outputs": [],
   "source": [
    "type_a=list(set(type_a))\n",
    "type_b=list(set(type_b))\n",
    "type_c=list(set(type_c))"
   ]
  },
  {
   "cell_type": "code",
   "execution_count": 179,
   "metadata": {},
   "outputs": [],
   "source": [
    "def loc(list_type):\n",
    "  result=[]\n",
    "  for i in range(len(list_type)):\n",
    "    if \"&\" in list_type[i]:\n",
    "      result.append(list_type[i].replace(\"&\",\" \"))\n",
    "    elif \"+\" in list_type[i]:\n",
    "      result.append(list_type[i].replace(\"+\",\" \"))\n",
    "    elif \")\"  in list_type[i]:\n",
    "      result.append(list_type[i].replace(\")\",\"\"))\n",
    "    elif \"(\"  in list_type[i]:\n",
    "      result.append(list_type[i].replace(\"(\",\"\"))\n",
    "    elif \".\" in list_type[i]:\n",
    "      result.append(list_type[i].replace(\".\",\" \"))\n",
    "    elif \"-\" in list_type[i]:\n",
    "      result.append(list_type[i].replace(\"-\",\" \"))\n",
    "    else:\n",
    "      result.append(list_type[i])\n",
    "  return result"
   ]
  },
  {
   "cell_type": "code",
   "execution_count": 180,
   "metadata": {},
   "outputs": [],
   "source": [
    "type_c=loc(type_c)\n",
    "type_a=loc(type_a)\n",
    "type_b=loc(type_b)"
   ]
  },
  {
   "cell_type": "code",
   "execution_count": 181,
   "metadata": {},
   "outputs": [],
   "source": [
    "type_a=list(set(type_a))\n",
    "type_b=list(set(type_b))\n",
    "type_c=list(set(type_c))"
   ]
  },
  {
   "cell_type": "code",
   "execution_count": 182,
   "metadata": {},
   "outputs": [],
   "source": [
    "def define_machine(name_mc):\n",
    "  result=[]\n",
    "  for i in range(len(name_mc)):\n",
    "    temp=name_mc[i].lower().split(\" \")\n",
    "    for j in range(len(temp)):\n",
    "      if j>(len(temp)-1):\n",
    "        break\n",
    "      elif temp[j]==\"Máy\" or temp[j]==\"máy\":\n",
    "        temp.pop(j)\n",
    "    result.append(temp)\n",
    "  return result"
   ]
  },
  {
   "cell_type": "code",
   "execution_count": 183,
   "metadata": {},
   "outputs": [],
   "source": [
    "new_name_acc=define_machine(name_ACC)\n",
    "new_name_mcg=define_machine(name_MCG)\n"
   ]
  },
  {
   "cell_type": "code",
   "execution_count": 184,
   "metadata": {},
   "outputs": [],
   "source": [
    "def define_type(new_name):\n",
    "    point_a=0\n",
    "    point_b=0\n",
    "    point_c=0\n",
    "    typeofmachine=[]\n",
    "    for i in range(len(new_name)):\n",
    "        for j in range(len(new_name[i])):\n",
    "            if new_name[i][j] in type_a:\n",
    "                point_a+=1\n",
    "            if new_name[i][j] in type_b:\n",
    "                point_b+=1\n",
    "            if new_name[i][j] in type_c:\n",
    "                point_c+=1\n",
    "        typeofmachine.append(vote(point_a=point_a,point_b=point_b,point_c=point_c))\n",
    "    return typeofmachine"
   ]
  },
  {
   "cell_type": "code",
   "execution_count": 185,
   "metadata": {},
   "outputs": [],
   "source": [
    "type_ACC=define_type(new_name_acc)\n",
    "type_MCG=define_type(new_name_mcg)"
   ]
  }
 ],
 "metadata": {
  "kernelspec": {
   "display_name": "my_env",
   "language": "python",
   "name": "python3"
  },
  "language_info": {
   "codemirror_mode": {
    "name": "ipython",
    "version": 3
   },
   "file_extension": ".py",
   "mimetype": "text/x-python",
   "name": "python",
   "nbconvert_exporter": "python",
   "pygments_lexer": "ipython3",
   "version": "3.11.7"
  }
 },
 "nbformat": 4,
 "nbformat_minor": 2
}
